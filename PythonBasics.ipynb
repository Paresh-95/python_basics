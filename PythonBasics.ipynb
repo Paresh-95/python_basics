{
  "nbformat": 4,
  "nbformat_minor": 0,
  "metadata": {
    "colab": {
      "provenance": [],
      "authorship_tag": "ABX9TyMTDnVn2/7x4l8EL+RqPICM",
      "include_colab_link": true
    },
    "kernelspec": {
      "name": "python3",
      "display_name": "Python 3"
    },
    "language_info": {
      "name": "python"
    }
  },
  "cells": [
    {
      "cell_type": "markdown",
      "metadata": {
        "id": "view-in-github",
        "colab_type": "text"
      },
      "source": [
        "<a href=\"https://colab.research.google.com/github/Paresh-95/python_basics/blob/main/PythonBasics.ipynb\" target=\"_parent\"><img src=\"https://colab.research.google.com/assets/colab-badge.svg\" alt=\"Open In Colab\"/></a>"
      ]
    },
    {
      "cell_type": "code",
      "execution_count": 1,
      "metadata": {
        "colab": {
          "base_uri": "https://localhost:8080/"
        },
        "id": "kVk5iuUpuqb0",
        "outputId": "e55d6970-c8e3-446f-ba68-df3473f82384"
      },
      "outputs": [
        {
          "output_type": "stream",
          "name": "stdout",
          "text": [
            "Enter the number=3562\n",
            "2\n"
          ]
        }
      ],
      "source": [
        "# To Find Last Digit of Number\n",
        "\n",
        "num = int(input(\"Enter the number=\"))\n",
        "a = num%10\n",
        "print(a)"
      ]
    },
    {
      "cell_type": "code",
      "source": [
        "# Swap With Third Digit\n",
        "\n",
        "a = int(input(\"Enter value of a = \"))\n",
        "b = int(input(\"Enter value of b = \"))\n",
        "print(\"Before Swapping\")\n",
        "print(\"a=\",a )\n",
        "print(\"b=\",b)\n",
        "\n",
        "temp = a\n",
        "a=b\n",
        "b=temp\n",
        "\n",
        "print(\"After Swapping\")\n",
        "print(\"a=\",a)\n",
        "print(\"b=\",b)\n"
      ],
      "metadata": {
        "colab": {
          "base_uri": "https://localhost:8080/"
        },
        "id": "G37r6Xvdu-Bb",
        "outputId": "ae767df4-a4ca-4e31-cfd0-1ed65c86a9d4"
      },
      "execution_count": 4,
      "outputs": [
        {
          "output_type": "stream",
          "name": "stdout",
          "text": [
            "Enter value of a = 30\n",
            "Enter value of b = 10\n",
            "Before Swapping\n",
            "a= 30\n",
            "b= 10\n",
            "After Swapping\n",
            "a= 10\n",
            "b= 30\n"
          ]
        }
      ]
    },
    {
      "cell_type": "code",
      "source": [
        "# Swap Without Third Variable\n",
        "\n",
        "a = int(input(\"Enter value of a = \"))\n",
        "b = int(input(\"Enter value of b = \"))\n",
        "print(\"Before Swapping\")\n",
        "print(\"a=\",a )\n",
        "print(\"b=\",b)\n",
        "a=a+b\n",
        "b=a-b\n",
        "a=a-b\n",
        "print(\"After Swapping\")\n",
        "print(\"a=\",a)\n",
        "print(\"b=\",b)\n"
      ],
      "metadata": {
        "colab": {
          "base_uri": "https://localhost:8080/"
        },
        "id": "tp0glu13wRVe",
        "outputId": "5e4b431f-6376-40e9-da8c-5ebcb21182d3"
      },
      "execution_count": 5,
      "outputs": [
        {
          "output_type": "stream",
          "name": "stdout",
          "text": [
            "Enter value of a = 20\n",
            "Enter value of b = 30\n",
            "Before Swapping\n",
            "a= 20\n",
            "b= 30\n",
            "After Swapping\n",
            "a= 30\n",
            "b= 20\n"
          ]
        }
      ]
    },
    {
      "cell_type": "code",
      "source": [
        "# Reverse of 4 digit number\n",
        "reverseNo = 0\n",
        "num = int(input(\"Enter the no you want to reverse = \"))\n",
        "print(num)\n",
        "\n",
        "while num>0:\n",
        "  rem = num%10\n",
        "  reverseNo = reverseNo*10+rem\n",
        "  num //=10\n",
        "\n",
        "print(reverseNo)"
      ],
      "metadata": {
        "colab": {
          "base_uri": "https://localhost:8080/"
        },
        "id": "O-0sa-mAxPW9",
        "outputId": "63cce6a8-b06f-440f-b1ca-ea7c748a9a33"
      },
      "execution_count": 10,
      "outputs": [
        {
          "output_type": "stream",
          "name": "stdout",
          "text": [
            "Enter the no you want to reverse = 1234\n",
            "1234\n",
            "4321\n"
          ]
        }
      ]
    },
    {
      "cell_type": "code",
      "source": [
        "# Add  Digit of Number\n",
        "\n",
        "num = input(\"Enter Number: \")\n",
        "sum = 0\n",
        "\n",
        "for i in num:\n",
        "    sum = sum + int(i)\n",
        "\n",
        "print(sum)"
      ],
      "metadata": {
        "colab": {
          "base_uri": "https://localhost:8080/"
        },
        "id": "zwgD8hauzDQo",
        "outputId": "340cb4f2-015c-4ec6-fbb7-3e49fdaaa382"
      },
      "execution_count": 16,
      "outputs": [
        {
          "output_type": "stream",
          "name": "stdout",
          "text": [
            "Enter Number: 124\n",
            "7\n"
          ]
        }
      ]
    },
    {
      "cell_type": "code",
      "source": [
        "# Check Number is Less than 10\n",
        "\n",
        "num = int(input(\"Enter the number = \"))\n",
        "print(\"YES\" if num<10 else \"NO\")"
      ],
      "metadata": {
        "colab": {
          "base_uri": "https://localhost:8080/"
        },
        "id": "gYezD8yH0Phz",
        "outputId": "404879fa-1fc0-4202-db2c-4adb68b21734"
      },
      "execution_count": 18,
      "outputs": [
        {
          "output_type": "stream",
          "name": "stdout",
          "text": [
            "Enter the number = 11\n",
            "NO\n"
          ]
        }
      ]
    },
    {
      "cell_type": "code",
      "source": [
        "# Check the number is Equivalent or not\n",
        "num1 = int(input(\"Enter the number = \"))\n",
        "num2 = int(input(\"Enter the number = \"))\n",
        "\n",
        "print(\"YES\" if num1==num2 else \"NO\")"
      ],
      "metadata": {
        "colab": {
          "base_uri": "https://localhost:8080/"
        },
        "id": "jbCE4hqzyuSA",
        "outputId": "378bfe63-c319-4b7d-85ac-0490269a8b86"
      },
      "execution_count": 22,
      "outputs": [
        {
          "output_type": "stream",
          "name": "stdout",
          "text": [
            "Enter the number = 10\n",
            "Enter the number = 20\n",
            "NO\n"
          ]
        }
      ]
    },
    {
      "cell_type": "code",
      "source": [
        "# Check Voting Eligiblity\n",
        "\n",
        "age =int(input(\"Enter the number = \"))\n",
        "print(\"You can Vote \" if age>=18 else \"You cannot Vote\")"
      ],
      "metadata": {
        "colab": {
          "base_uri": "https://localhost:8080/"
        },
        "id": "W4yPkFI-1hhW",
        "outputId": "9d292c35-9477-4062-c485-08c38f06512b"
      },
      "execution_count": 24,
      "outputs": [
        {
          "output_type": "stream",
          "name": "stdout",
          "text": [
            "Enter the number = 20\n",
            "You can Vote \n"
          ]
        }
      ]
    },
    {
      "cell_type": "code",
      "source": [
        "# Check number is even or odd\n",
        "\n",
        "num = int(input(\"Enter the number = \"))\n",
        "print(\"Even\" if num%2==0 else \"Odd\")"
      ],
      "metadata": {
        "colab": {
          "base_uri": "https://localhost:8080/"
        },
        "id": "euATHQw713sO",
        "outputId": "2e65ef64-231e-481a-e33b-3ababd56cbec"
      },
      "execution_count": 29,
      "outputs": [
        {
          "output_type": "stream",
          "name": "stdout",
          "text": [
            "Enter the number = 11\n",
            "Odd\n"
          ]
        }
      ]
    },
    {
      "cell_type": "code",
      "source": [
        "# Enter 3 Angle Check it is Traingle or not\n",
        "\n",
        "A1 = int(input(\"Enter the Angle1 = \"))\n",
        "A2 = int(input(\"Enter the Angle2 = \"))\n",
        "A3 = int(input(\"Enter the Angle3 = \"))\n",
        "\n",
        "print(\"Traingle\" if A1+A2+A3==180 else \"Not a Traingle\")\n"
      ],
      "metadata": {
        "colab": {
          "base_uri": "https://localhost:8080/"
        },
        "id": "19b51xv92XPd",
        "outputId": "c5be0634-face-4846-d613-0a9df12017cf"
      },
      "execution_count": 33,
      "outputs": [
        {
          "output_type": "stream",
          "name": "stdout",
          "text": [
            "Enter the Angle1 = 40\n",
            "Enter the Angle2 = 60\n",
            "Enter the Angle3 = 80\n",
            "Traingle\n"
          ]
        }
      ]
    },
    {
      "cell_type": "code",
      "source": [
        "# Find Total Marks And Percentage\n",
        "\n",
        "print(\"Enter your marks in following subjects\")\n",
        "math = int(input(\"Enter marks in maths\"))\n",
        "science = int(input(\"Enter marks in science = \"))\n",
        "ss = int(input(\"Enter marks in ss = \"))\n",
        "hindi = int(input(\"Enter marks in hindi = \"))\n",
        "english = int(input(\"Enter marks in english = \"))\n",
        "\n",
        "totalMarks = math+science+ss+hindi+english\n",
        "print(\"Total Marks obtained= \",totalMarks,\"/500\")\n",
        "\n",
        "percentage = ((totalMarks/500)*100)\n",
        "print(\"Percentage obtained =\",percentage)\n"
      ],
      "metadata": {
        "colab": {
          "base_uri": "https://localhost:8080/"
        },
        "id": "XGFb60rU2ojH",
        "outputId": "b566a437-03ef-43d7-a5a5-855cde154c6e"
      },
      "execution_count": 39,
      "outputs": [
        {
          "output_type": "stream",
          "name": "stdout",
          "text": [
            "Enter your marks in following subjects\n",
            "Enter marks in maths99\n",
            "Enter marks in science = 89\n",
            "Enter marks in ss = 92\n",
            "Enter marks in hindi = 87\n",
            "Enter marks in english = 98\n",
            "Total Marks obtained=  465 /500\n",
            "Percentage obtained = 93.0\n"
          ]
        }
      ]
    },
    {
      "cell_type": "code",
      "source": [
        "from prompt_toolkit.shortcuts.progress_bar.base import E\n",
        "# check leap year or not\n",
        "\n",
        "year = int(input(\"Enter year = \"))\n",
        "\n",
        "if year%400==0 and year%100==0:\n",
        "  print(\"Year is a Leaf Year\")\n",
        "elif year%4==0 and year%100!=0:\n",
        "  print(\"Year is a Leaf Year\")\n",
        "else:\n",
        "  print(\"Year is not a leaf Year\")\n",
        "\n",
        "\n"
      ],
      "metadata": {
        "colab": {
          "base_uri": "https://localhost:8080/"
        },
        "id": "m2xx0J4M4iNw",
        "outputId": "e7b3241e-f6da-48f3-9610-b45f39f46eab"
      },
      "execution_count": 47,
      "outputs": [
        {
          "output_type": "stream",
          "name": "stdout",
          "text": [
            "Enter year = 2004\n",
            "Year is a Leaf Year\n"
          ]
        }
      ]
    },
    {
      "cell_type": "code",
      "source": [
        "# check if no is +ve -ve or 0\n",
        "\n",
        "num =int(input(\"Enter the number = \"))\n",
        "\n",
        "if(num>0):\n",
        "  print(\"Number is positive number\")\n",
        "elif(num==0):\n",
        "  print(\"Number is Zero\")\n",
        "else:\n",
        "  print(\"Number is negative number\")"
      ],
      "metadata": {
        "colab": {
          "base_uri": "https://localhost:8080/"
        },
        "id": "9ha-VElB3QyD",
        "outputId": "02bc0c59-c09f-4991-aa36-a8db21faef74"
      },
      "execution_count": 53,
      "outputs": [
        {
          "output_type": "stream",
          "name": "stdout",
          "text": [
            "Enter the number = -1\n",
            "Number is negative number\n"
          ]
        }
      ]
    },
    {
      "cell_type": "code",
      "source": [
        "# Largest among three number\n",
        "\n",
        "a =int(input(\"Enter the number1 = \"))\n",
        "b =int(input(\"Enter the number2 = \"))\n",
        "c =int(input(\"Enter the number3 = \"))\n",
        "\n",
        "if a>b and a>c:\n",
        "  print(a,\"is the greatest\")\n",
        "elif b>a and b>c:\n",
        "  print(b,\"is the greatest\")\n",
        "elif c>a and c>b:\n",
        "  print(c,\"is the greatest\")\n",
        "else:\n",
        "   print(\"All numbers are equal\")"
      ],
      "metadata": {
        "colab": {
          "base_uri": "https://localhost:8080/"
        },
        "id": "6o-kLAd07dJ3",
        "outputId": "2be70ef5-5c11-47cb-a015-7d9564bc1296"
      },
      "execution_count": 58,
      "outputs": [
        {
          "output_type": "stream",
          "name": "stdout",
          "text": [
            "Enter the number1 = 10\n",
            "Enter the number2 = 20\n",
            "Enter the number3 = 60\n",
            "60 is the greatest\n"
          ]
        }
      ]
    },
    {
      "cell_type": "code",
      "source": [
        "# discount to students\n",
        "\n",
        "cost =int(input(\"Enter your cost of the product = \"))\n",
        "user = int(input(\"Enter 1 if student else enter any key = \"))\n",
        "\n",
        "if(user==1 and cost>500):\n",
        "  print(\" Original Cost = \",cost)\n",
        "  discount = cost/10\n",
        "  print(\"Discount obtained = \",discount)\n",
        "  disPrice = cost-discount\n",
        "  print(\"Discounted Price = \",disPrice)\n",
        "\n",
        "elif(user==1 and cost<=500):\n",
        "  print(\" Original Cost = \",cost)\n",
        "  discount = ((cost/100)*5)\n",
        "  print(\"Discount obtained = \",discount)\n",
        "  disPrice = cost-discount\n",
        "  print(\"Discounted Price = \",disPrice)\n",
        "\n",
        "elif(user and cost>500):\n",
        "  print(\"Original Cost = \",cost)\n",
        "  discount = ((cost/100)*8)\n",
        "  print(\"Discount obtained = \",discount)\n",
        "  disPrice = cost-discount\n",
        "  print(\"Discounted Price = \",disPrice)\n",
        "\n",
        "else:\n",
        "  print(\" Original Cost = \",cost)\n",
        "  discount = ((cost/100)*2)\n",
        "  print(\"Discount obtained = \",discount)\n",
        "  disPrice = cost-discount\n",
        "  print(\"Discounted Price = \",disPrice)"
      ],
      "metadata": {
        "colab": {
          "base_uri": "https://localhost:8080/"
        },
        "id": "Nv4-0ccq8qKQ",
        "outputId": "928301d2-b625-4d38-cb76-c4846073dc18"
      },
      "execution_count": 67,
      "outputs": [
        {
          "output_type": "stream",
          "name": "stdout",
          "text": [
            "Enter your cost of the product = 700\n",
            "Enter 1 if student else enter any key = 8\n",
            "Original Cost =  700\n",
            "Discount obtained =  56.0\n",
            "Discounted Price =  644.0\n"
          ]
        }
      ]
    },
    {
      "cell_type": "code",
      "source": [],
      "metadata": {
        "id": "y-AiK3vACrYR"
      },
      "execution_count": null,
      "outputs": []
    }
  ]
}