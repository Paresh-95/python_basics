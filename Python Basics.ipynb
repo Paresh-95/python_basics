{
  "nbformat": 4,
  "nbformat_minor": 0,
  "metadata": {
    "colab": {
      "provenance": [],
      "authorship_tag": "ABX9TyPp3JB6EA/WuyDe87zPYIPQ",
      "include_colab_link": true
    },
    "kernelspec": {
      "name": "python3",
      "display_name": "Python 3"
    },
    "language_info": {
      "name": "python"
    }
  },
  "cells": [
    {
      "cell_type": "markdown",
      "metadata": {
        "id": "view-in-github",
        "colab_type": "text"
      },
      "source": [
        "<a href=\"https://colab.research.google.com/github/Paresh-95/python_basics/blob/main/Python%20Basics.ipynb\" target=\"_parent\"><img src=\"https://colab.research.google.com/assets/colab-badge.svg\" alt=\"Open In Colab\"/></a>"
      ]
    },
    {
      "cell_type": "code",
      "execution_count": null,
      "metadata": {
        "colab": {
          "base_uri": "https://localhost:8080/"
        },
        "id": "kVk5iuUpuqb0",
        "outputId": "e55d6970-c8e3-446f-ba68-df3473f82384"
      },
      "outputs": [
        {
          "output_type": "stream",
          "name": "stdout",
          "text": [
            "Enter the number=3562\n",
            "2\n"
          ]
        }
      ],
      "source": [
        "# To Find Last Digit of Number\n",
        "\n",
        "num = int(input(\"Enter the number=\"))\n",
        "a = num%10\n",
        "print(a)"
      ]
    },
    {
      "cell_type": "code",
      "source": [
        "# Swap With Third Digit\n",
        "\n",
        "a = int(input(\"Enter value of a = \"))\n",
        "b = int(input(\"Enter value of b = \"))\n",
        "print(\"Before Swapping\")\n",
        "print(\"a=\",a )\n",
        "print(\"b=\",b)\n",
        "\n",
        "temp = a\n",
        "a=b\n",
        "b=temp\n",
        "\n",
        "print(\"After Swapping\")\n",
        "print(\"a=\",a)\n",
        "print(\"b=\",b)\n"
      ],
      "metadata": {
        "colab": {
          "base_uri": "https://localhost:8080/"
        },
        "id": "G37r6Xvdu-Bb",
        "outputId": "ae767df4-a4ca-4e31-cfd0-1ed65c86a9d4"
      },
      "execution_count": null,
      "outputs": [
        {
          "output_type": "stream",
          "name": "stdout",
          "text": [
            "Enter value of a = 30\n",
            "Enter value of b = 10\n",
            "Before Swapping\n",
            "a= 30\n",
            "b= 10\n",
            "After Swapping\n",
            "a= 10\n",
            "b= 30\n"
          ]
        }
      ]
    },
    {
      "cell_type": "code",
      "source": [
        "# Swap Without Third Variable\n",
        "\n",
        "a = int(input(\"Enter value of a = \"))\n",
        "b = int(input(\"Enter value of b = \"))\n",
        "print(\"Before Swapping\")\n",
        "print(\"a=\",a )\n",
        "print(\"b=\",b)\n",
        "a=a+b\n",
        "b=a-b\n",
        "a=a-b\n",
        "print(\"After Swapping\")\n",
        "print(\"a=\",a)\n",
        "print(\"b=\",b)\n"
      ],
      "metadata": {
        "colab": {
          "base_uri": "https://localhost:8080/"
        },
        "id": "tp0glu13wRVe",
        "outputId": "5e4b431f-6376-40e9-da8c-5ebcb21182d3"
      },
      "execution_count": null,
      "outputs": [
        {
          "output_type": "stream",
          "name": "stdout",
          "text": [
            "Enter value of a = 20\n",
            "Enter value of b = 30\n",
            "Before Swapping\n",
            "a= 20\n",
            "b= 30\n",
            "After Swapping\n",
            "a= 30\n",
            "b= 20\n"
          ]
        }
      ]
    },
    {
      "cell_type": "code",
      "source": [
        "# Reverse of 4 digit number\n",
        "reverseNo = 0\n",
        "num = int(input(\"Enter the no you want to reverse = \"))\n",
        "print(num)\n",
        "\n",
        "while num>0:\n",
        "  rem = num%10\n",
        "  reverseNo = reverseNo*10+rem\n",
        "  num //=10\n",
        "\n",
        "print(reverseNo)"
      ],
      "metadata": {
        "colab": {
          "base_uri": "https://localhost:8080/"
        },
        "id": "O-0sa-mAxPW9",
        "outputId": "63cce6a8-b06f-440f-b1ca-ea7c748a9a33"
      },
      "execution_count": null,
      "outputs": [
        {
          "output_type": "stream",
          "name": "stdout",
          "text": [
            "Enter the no you want to reverse = 1234\n",
            "1234\n",
            "4321\n"
          ]
        }
      ]
    },
    {
      "cell_type": "code",
      "source": [
        "# Add  Digit of Number\n",
        "\n",
        "num = input(\"Enter Number: \")\n",
        "sum = 0\n",
        "\n",
        "for i in num:\n",
        "    sum = sum + int(i)\n",
        "\n",
        "print(sum)"
      ],
      "metadata": {
        "colab": {
          "base_uri": "https://localhost:8080/"
        },
        "id": "zwgD8hauzDQo",
        "outputId": "340cb4f2-015c-4ec6-fbb7-3e49fdaaa382"
      },
      "execution_count": null,
      "outputs": [
        {
          "output_type": "stream",
          "name": "stdout",
          "text": [
            "Enter Number: 124\n",
            "7\n"
          ]
        }
      ]
    },
    {
      "cell_type": "code",
      "source": [
        "# Check Number is Less than 10\n",
        "\n",
        "num = int(input(\"Enter the number = \"))\n",
        "print(\"YES\" if num<10 else \"NO\")"
      ],
      "metadata": {
        "colab": {
          "base_uri": "https://localhost:8080/"
        },
        "id": "gYezD8yH0Phz",
        "outputId": "404879fa-1fc0-4202-db2c-4adb68b21734"
      },
      "execution_count": null,
      "outputs": [
        {
          "output_type": "stream",
          "name": "stdout",
          "text": [
            "Enter the number = 11\n",
            "NO\n"
          ]
        }
      ]
    },
    {
      "cell_type": "code",
      "source": [
        "# Check the number is Equivalent or not\n",
        "num1 = int(input(\"Enter the number = \"))\n",
        "num2 = int(input(\"Enter the number = \"))\n",
        "\n",
        "print(\"YES\" if num1==num2 else \"NO\")"
      ],
      "metadata": {
        "colab": {
          "base_uri": "https://localhost:8080/"
        },
        "id": "jbCE4hqzyuSA",
        "outputId": "378bfe63-c319-4b7d-85ac-0490269a8b86"
      },
      "execution_count": null,
      "outputs": [
        {
          "output_type": "stream",
          "name": "stdout",
          "text": [
            "Enter the number = 10\n",
            "Enter the number = 20\n",
            "NO\n"
          ]
        }
      ]
    },
    {
      "cell_type": "code",
      "source": [
        "# Check Voting Eligiblity\n",
        "\n",
        "age =int(input(\"Enter the number = \"))\n",
        "print(\"You can Vote \" if age>=18 else \"You cannot Vote\")"
      ],
      "metadata": {
        "colab": {
          "base_uri": "https://localhost:8080/"
        },
        "id": "W4yPkFI-1hhW",
        "outputId": "9d292c35-9477-4062-c485-08c38f06512b"
      },
      "execution_count": null,
      "outputs": [
        {
          "output_type": "stream",
          "name": "stdout",
          "text": [
            "Enter the number = 20\n",
            "You can Vote \n"
          ]
        }
      ]
    },
    {
      "cell_type": "code",
      "source": [
        "# Check number is even or odd\n",
        "\n",
        "num = int(input(\"Enter the number = \"))\n",
        "print(\"Even\" if num%2==0 else \"Odd\")"
      ],
      "metadata": {
        "colab": {
          "base_uri": "https://localhost:8080/"
        },
        "id": "euATHQw713sO",
        "outputId": "2e65ef64-231e-481a-e33b-3ababd56cbec"
      },
      "execution_count": null,
      "outputs": [
        {
          "output_type": "stream",
          "name": "stdout",
          "text": [
            "Enter the number = 11\n",
            "Odd\n"
          ]
        }
      ]
    },
    {
      "cell_type": "code",
      "source": [
        "# Enter 3 Angle Check it is Traingle or not\n",
        "\n",
        "A1 = int(input(\"Enter the Angle1 = \"))\n",
        "A2 = int(input(\"Enter the Angle2 = \"))\n",
        "A3 = int(input(\"Enter the Angle3 = \"))\n",
        "\n",
        "print(\"Traingle\" if A1+A2+A3==180 else \"Not a Traingle\")\n"
      ],
      "metadata": {
        "colab": {
          "base_uri": "https://localhost:8080/"
        },
        "id": "19b51xv92XPd",
        "outputId": "c5be0634-face-4846-d613-0a9df12017cf"
      },
      "execution_count": null,
      "outputs": [
        {
          "output_type": "stream",
          "name": "stdout",
          "text": [
            "Enter the Angle1 = 40\n",
            "Enter the Angle2 = 60\n",
            "Enter the Angle3 = 80\n",
            "Traingle\n"
          ]
        }
      ]
    },
    {
      "cell_type": "code",
      "source": [
        "# Find Total Marks And Percentage\n",
        "\n",
        "print(\"Enter your marks in following subjects\")\n",
        "math = int(input(\"Enter marks in maths\"))\n",
        "science = int(input(\"Enter marks in science = \"))\n",
        "ss = int(input(\"Enter marks in ss = \"))\n",
        "hindi = int(input(\"Enter marks in hindi = \"))\n",
        "english = int(input(\"Enter marks in english = \"))\n",
        "\n",
        "totalMarks = math+science+ss+hindi+english\n",
        "print(\"Total Marks obtained= \",totalMarks,\"/500\")\n",
        "\n",
        "percentage = ((totalMarks/500)*100)\n",
        "print(\"Percentage obtained =\",percentage)\n"
      ],
      "metadata": {
        "colab": {
          "base_uri": "https://localhost:8080/"
        },
        "id": "XGFb60rU2ojH",
        "outputId": "b566a437-03ef-43d7-a5a5-855cde154c6e"
      },
      "execution_count": null,
      "outputs": [
        {
          "output_type": "stream",
          "name": "stdout",
          "text": [
            "Enter your marks in following subjects\n",
            "Enter marks in maths99\n",
            "Enter marks in science = 89\n",
            "Enter marks in ss = 92\n",
            "Enter marks in hindi = 87\n",
            "Enter marks in english = 98\n",
            "Total Marks obtained=  465 /500\n",
            "Percentage obtained = 93.0\n"
          ]
        }
      ]
    },
    {
      "cell_type": "code",
      "source": [
        "\n",
        "# check leap year or not\n",
        "\n",
        "year = int(input(\"Enter year = \"))\n",
        "\n",
        "if year%400==0 and year%100==0:\n",
        "  print(\"Year is a Leaf Year\")\n",
        "elif year%4==0 and year%100!=0:\n",
        "  print(\"Year is a Leaf Year\")\n",
        "else:\n",
        "  print(\"Year is not a leaf Year\")\n",
        "\n",
        "\n"
      ],
      "metadata": {
        "colab": {
          "base_uri": "https://localhost:8080/"
        },
        "id": "m2xx0J4M4iNw",
        "outputId": "e7b3241e-f6da-48f3-9610-b45f39f46eab"
      },
      "execution_count": null,
      "outputs": [
        {
          "output_type": "stream",
          "name": "stdout",
          "text": [
            "Enter year = 2004\n",
            "Year is a Leaf Year\n"
          ]
        }
      ]
    },
    {
      "cell_type": "code",
      "source": [
        "# check if no is +ve -ve or 0\n",
        "\n",
        "num =int(input(\"Enter the number = \"))\n",
        "\n",
        "if(num>0):\n",
        "  print(\"Number is positive number\")\n",
        "elif(num==0):\n",
        "  print(\"Number is Zero\")\n",
        "else:\n",
        "  print(\"Number is negative number\")"
      ],
      "metadata": {
        "colab": {
          "base_uri": "https://localhost:8080/"
        },
        "id": "9ha-VElB3QyD",
        "outputId": "02bc0c59-c09f-4991-aa36-a8db21faef74"
      },
      "execution_count": null,
      "outputs": [
        {
          "output_type": "stream",
          "name": "stdout",
          "text": [
            "Enter the number = -1\n",
            "Number is negative number\n"
          ]
        }
      ]
    },
    {
      "cell_type": "code",
      "source": [
        "# Largest among three number\n",
        "\n",
        "a =int(input(\"Enter the number1 = \"))\n",
        "b =int(input(\"Enter the number2 = \"))\n",
        "c =int(input(\"Enter the number3 = \"))\n",
        "\n",
        "if a>b and a>c:\n",
        "  print(a,\"is the greatest\")\n",
        "elif b>a and b>c:\n",
        "  print(b,\"is the greatest\")\n",
        "elif c>a and c>b:\n",
        "  print(c,\"is the greatest\")\n",
        "else:\n",
        "   print(\"All numbers are equal\")"
      ],
      "metadata": {
        "colab": {
          "base_uri": "https://localhost:8080/"
        },
        "id": "6o-kLAd07dJ3",
        "outputId": "2be70ef5-5c11-47cb-a015-7d9564bc1296"
      },
      "execution_count": null,
      "outputs": [
        {
          "output_type": "stream",
          "name": "stdout",
          "text": [
            "Enter the number1 = 10\n",
            "Enter the number2 = 20\n",
            "Enter the number3 = 60\n",
            "60 is the greatest\n"
          ]
        }
      ]
    },
    {
      "cell_type": "code",
      "source": [
        "# discount to students\n",
        "\n",
        "cost =int(input(\"Enter your cost of the product = \"))\n",
        "user = int(input(\"Enter 1 if student else enter any key = \"))\n",
        "\n",
        "if(user==1 and cost>500):\n",
        "  print(\" Original Cost = \",cost)\n",
        "  discount = int(cost/10)\n",
        "  print(\"Discount obtained = \",discount)\n",
        "  disPrice = int(cost-discount)\n",
        "  print(\"Discounted Price = \",disPrice)\n",
        "\n",
        "elif(user==1 and cost<=500):\n",
        "  print(\" Original Cost = \",cost)\n",
        "  discount = int((cost/100)*5)\n",
        "  print(\"Discount obtained = \",discount)\n",
        "  disPrice = int(cost-discount)\n",
        "  print(\"Discounted Price = \",disPrice)\n",
        "\n",
        "elif(user and cost>500):\n",
        "  print(\"Original Cost = \",cost)\n",
        "  discount = int((cost/100)*8)\n",
        "  print(\"Discount obtained = \",discount)\n",
        "  disPrice = int(cost-discount)\n",
        "  print(\"Discounted Price = \",disPrice)\n",
        "\n",
        "else:\n",
        "  print(\" Original Cost = \",cost)\n",
        "  discount = int((cost/100)*2)\n",
        "  print(\"Discount obtained = \",discount)\n",
        "  disPrice = int(cost-discount)\n",
        "  print(\"Discounted Price = \",disPrice)"
      ],
      "metadata": {
        "colab": {
          "base_uri": "https://localhost:8080/"
        },
        "id": "Nv4-0ccq8qKQ",
        "outputId": "5298fe1b-06be-42db-b066-9a53813047e1"
      },
      "execution_count": null,
      "outputs": [
        {
          "output_type": "stream",
          "name": "stdout",
          "text": [
            "Enter your cost of the product = 600\n",
            "Enter 1 if student else enter any key = 1\n",
            " Original Cost =  600\n",
            "Discount obtained =  60\n",
            "Discounted Price =  540\n"
          ]
        }
      ]
    },
    {
      "cell_type": "code",
      "source": [
        "# Loop Questions\n",
        "# print no from 10 to 1\n",
        "\n",
        "for i in range(10,0,-1):\n",
        "  print(i)"
      ],
      "metadata": {
        "id": "8WhDg0MFDxnX",
        "colab": {
          "base_uri": "https://localhost:8080/"
        },
        "outputId": "b8005992-393c-425d-e48a-ed2aa79be9a5"
      },
      "execution_count": 85,
      "outputs": [
        {
          "output_type": "stream",
          "name": "stdout",
          "text": [
            "10\n",
            "9\n",
            "8\n",
            "7\n",
            "6\n",
            "5\n",
            "4\n",
            "3\n",
            "2\n",
            "1\n"
          ]
        }
      ]
    },
    {
      "cell_type": "code",
      "source": [
        "# sum of first even number\n",
        "sum=0\n",
        "num =int(input(\"Enter the number = \"))\n",
        "for i  in range(2,num+1,2):\n",
        "  sum= sum+i\n",
        "\n",
        "print(sum)\n",
        "\n",
        "\n",
        "\n",
        "\n"
      ],
      "metadata": {
        "id": "y-AiK3vACrYR",
        "colab": {
          "base_uri": "https://localhost:8080/"
        },
        "outputId": "865cbef8-a44e-40c6-f91a-c208122c0f2b"
      },
      "execution_count": 88,
      "outputs": [
        {
          "output_type": "stream",
          "name": "stdout",
          "text": [
            "Enter the number = 6\n",
            "12\n"
          ]
        }
      ]
    },
    {
      "cell_type": "code",
      "source": [
        "# COUNT OF THE NUMBER\n",
        "\n",
        "n =int(input(\"Enter the number = \"))\n",
        "count = 0\n",
        "while n!=0:\n",
        "  n//=10\n",
        "  count += 1\n",
        "\n",
        "print(\"count of the number is \",count)\n"
      ],
      "metadata": {
        "colab": {
          "base_uri": "https://localhost:8080/"
        },
        "id": "NjaDj6_ZS5Hl",
        "outputId": "a475d1b1-92ac-4be1-ed7f-5b8322e0f27c"
      },
      "execution_count": 90,
      "outputs": [
        {
          "output_type": "stream",
          "name": "stdout",
          "text": [
            "Enter the number = 1145\n",
            "count of the number is  4\n"
          ]
        }
      ]
    },
    {
      "cell_type": "code",
      "source": [
        "n =int(input(\"Enter the number = \"))\n",
        "factorial =1\n",
        "\n",
        "if n<0:\n",
        "  print(\"factorial doesn't exist for negative no\")\n",
        "elif n==0:\n",
        "  print(\"factorial of 0  is 1\")\n",
        "else:\n",
        "  for i in range(1,n+1):\n",
        "    factorial = factorial*i\n",
        "\n",
        "print(factorial)"
      ],
      "metadata": {
        "colab": {
          "base_uri": "https://localhost:8080/"
        },
        "id": "b_1Ylz7OUXby",
        "outputId": "70f60038-9af2-458d-c94b-95c553d91d31"
      },
      "execution_count": 100,
      "outputs": [
        {
          "output_type": "stream",
          "name": "stdout",
          "text": [
            "Enter the number = 8\n",
            "40320\n"
          ]
        }
      ]
    },
    {
      "cell_type": "code",
      "source": [
        "# //accpet 9 digit no and find sum of last and first digit\n",
        "n =int(input(\"Enter a 9 digit number = \"))\n",
        "firstNum = n//100000000\n",
        "lastNum =  n%10\n",
        "\n",
        "sum = firstNum + lastNum\n",
        "print(sum)\n"
      ],
      "metadata": {
        "colab": {
          "base_uri": "https://localhost:8080/"
        },
        "id": "CVxGVUEQW58t",
        "outputId": "cd334273-12d4-4859-a64b-f0368c02aeec"
      },
      "execution_count": 104,
      "outputs": [
        {
          "output_type": "stream",
          "name": "stdout",
          "text": [
            "Enter a 9 digit number = 111111111\n",
            "2\n"
          ]
        }
      ]
    },
    {
      "cell_type": "code",
      "source": [
        "# Sum of all digits of number\n",
        "count = 0\n",
        "n =int(input(\"Enter the number = \"))\n",
        "while(n!=0):\n",
        "  rem  = n%10\n",
        "  count = count+rem\n",
        "  n=n//10\n",
        "\n",
        "print(count)"
      ],
      "metadata": {
        "colab": {
          "base_uri": "https://localhost:8080/"
        },
        "id": "e1bK-kY5aFHD",
        "outputId": "0ed899f7-9353-4140-f6d4-e52ba9d4bbdf"
      },
      "execution_count": 108,
      "outputs": [
        {
          "output_type": "stream",
          "name": "stdout",
          "text": [
            "Enter the number = 1234\n",
            "10\n"
          ]
        }
      ]
    },
    {
      "cell_type": "code",
      "source": [
        "  # check number is prime or not\n",
        "\n",
        "n =int(input(\"Enter the number = \"))\n",
        "\n",
        "for i in range(2,n):\n",
        "\n"
      ],
      "metadata": {
        "colab": {
          "base_uri": "https://localhost:8080/",
          "height": 141
        },
        "id": "rPl0WqsJbj4Y",
        "outputId": "15c94825-b4f8-4ab1-a34d-d8a3b5210654"
      },
      "execution_count": 122,
      "outputs": [
        {
          "output_type": "error",
          "ename": "IndentationError",
          "evalue": "ignored",
          "traceback": [
            "\u001b[0;36m  File \u001b[0;32m\"<ipython-input-122-772a52d9574d>\"\u001b[0;36m, line \u001b[0;32m6\u001b[0m\n\u001b[0;31m    if (n%i)==0:\u001b[0m\n\u001b[0m    ^\u001b[0m\n\u001b[0;31mIndentationError\u001b[0m\u001b[0;31m:\u001b[0m expected an indented block after 'for' statement on line 5\n"
          ]
        }
      ]
    },
    {
      "cell_type": "code",
      "source": [
        "# given no is palindrome or not\n",
        "\n",
        "reverseNo = 0\n",
        "num = int(input(\"Enter the no you want to reverse = \"))\n",
        "num1=num\n",
        "print(num)\n",
        "\n",
        "while num>0:\n",
        "  rem = num%10\n",
        "  reverseNo = reverseNo*10+rem\n",
        "  num //=10\n",
        "\n",
        "print(reverseNo)\n",
        "\n",
        "if(num1==reverseNo):\n",
        "  print(num1,\"is Palindrome number\")\n",
        "else:\n",
        "  print(num1, \"is not a palindrome number\")\n"
      ],
      "metadata": {
        "colab": {
          "base_uri": "https://localhost:8080/"
        },
        "id": "QiDWBKhPfHS6",
        "outputId": "09129074-96d6-4cca-ac31-caff3c9bc4e8"
      },
      "execution_count": 132,
      "outputs": [
        {
          "output_type": "stream",
          "name": "stdout",
          "text": [
            "Enter the no you want to reverse = 121\n",
            "121\n",
            "121\n",
            "121 is Palindrome number\n"
          ]
        }
      ]
    },
    {
      "cell_type": "code",
      "source": [
        "# print the sum of the following series\n",
        "# sum = 1 + x^1/1 + x^2/2 + x^3/3\n",
        "\n",
        "sum=1\n",
        "num = int(input(\"Enter the no = \"))\n",
        "n = int(input(\"Enter number upto which you want to print = \"))\n",
        "for i in range(1,n+1):\n",
        "  sum= sum+(num**i)//i\n",
        "\n",
        "print(sum)\n"
      ],
      "metadata": {
        "colab": {
          "base_uri": "https://localhost:8080/"
        },
        "id": "FuDqO3U0keCG",
        "outputId": "9f8aab7e-648b-4e09-d293-6ac09bffa9d7"
      },
      "execution_count": 146,
      "outputs": [
        {
          "output_type": "stream",
          "name": "stdout",
          "text": [
            "Enter the no = 2\n",
            "Enter number upto which you want to print = 3\n",
            "7\n"
          ]
        }
      ]
    },
    {
      "cell_type": "code",
      "source": [
        "# multiply two positive number without using * operator\n",
        "\n",
        "n1 = int(input(\"Enter number1 = \"))\n",
        "n2 = int(input(\"Enter number 2= \"))\n",
        "multiply=0\n",
        "for i in range(1,n2+1):\n",
        "    multiply = multiply+n1\n",
        "\n",
        "print(multiply)\n",
        "\n"
      ],
      "metadata": {
        "colab": {
          "base_uri": "https://localhost:8080/"
        },
        "id": "PepdAjGIn6vd",
        "outputId": "5eab92c1-1953-48a2-cb5c-80f3d0cf3a5a"
      },
      "execution_count": 151,
      "outputs": [
        {
          "output_type": "stream",
          "name": "stdout",
          "text": [
            "Enter number1 = 2\n",
            "Enter number 2= 3\n",
            "6\n"
          ]
        }
      ]
    },
    {
      "cell_type": "code",
      "source": [],
      "metadata": {
        "colab": {
          "base_uri": "https://localhost:8080/"
        },
        "id": "N-dlO3U9pC5Y",
        "outputId": "faa46b75-b3a6-4e66-91a7-3860d2f58ef1"
      },
      "execution_count": 153,
      "outputs": [
        {
          "output_type": "stream",
          "name": "stdout",
          "text": [
            "1 5\n",
            "2 4\n",
            "3 3\n",
            "4 2\n",
            "5 1\n"
          ]
        }
      ]
    }
  ]
}